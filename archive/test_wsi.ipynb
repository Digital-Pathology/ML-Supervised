{
 "cells": [
  {
   "cell_type": "code",
   "execution_count": 1,
   "metadata": {},
   "outputs": [],
   "source": [
    "%matplotlib inline\n",
    "\n",
    "import matplotlib.pyplot as plt\n",
    "import os"
   ]
  },
  {
   "cell_type": "code",
   "execution_count": 2,
   "metadata": {},
   "outputs": [],
   "source": [
    "from dataset import Dataset\n",
    "from unified_image_reader import Image"
   ]
  },
  {
   "cell_type": "code",
   "execution_count": 3,
   "metadata": {},
   "outputs": [],
   "source": [
    "filepath = \"/workspaces/dev-container/testing/training-simple/test-wsi/0/84429T_003.tif\"\n",
    "img = Image(filepath)"
   ]
  },
  {
   "cell_type": "code",
   "execution_count": 4,
   "metadata": {},
   "outputs": [
    {
     "data": {
      "text/plain": [
       "((68536, 64314), 16625)"
      ]
     },
     "execution_count": 4,
     "metadata": {},
     "output_type": "execute_result"
    }
   ],
   "source": [
    "img.dims, img.number_of_regions()"
   ]
  },
  {
   "cell_type": "code",
   "execution_count": 5,
   "metadata": {},
   "outputs": [],
   "source": [
    "#plt.imshow(img.get_region(14000))"
   ]
  },
  {
   "cell_type": "code",
   "execution_count": 6,
   "metadata": {},
   "outputs": [],
   "source": [
    "from filtration import *"
   ]
  },
  {
   "cell_type": "code",
   "execution_count": 7,
   "metadata": {},
   "outputs": [
    {
     "name": "stdout",
     "output_type": "stream",
     "text": [
      "False\n",
      "preprocessing file /workspaces/dev-container/testing/data/whole_slide_images/new_data/92321.tif\n",
      "exporting records\n",
      "preprocessing file /workspaces/dev-container/testing/data/whole_slide_images/old_data/84204T_001.tif\n"
     ]
    },
    {
     "name": "stderr",
     "output_type": "stream",
     "text": [
      "/opt/conda/lib/python3.9/site-packages/tables/path.py:155: NaturalNameWarning: object name is not a valid Python identifier: '[\"<FilterBlackAndWhite:{\\'filter_threshold\\':0.5,\\'binarization_threshold\\':0.85,\\'rgb_weights\\':[0.2989,0.587,0.114]}>\",\"<FilterHSV:{\\'threshold\\':100}>\",\"<FilterFocusMeasure:{\\'threshold\\':65.0}>\"]'; it does not match the pattern ``^[a-zA-Z_][a-zA-Z0-9_]*$``; you will not be able to use natural naming to access this object; using ``getattr()`` will still work, though\n",
      "  check_attribute_name(name)\n",
      "/opt/conda/lib/python3.9/site-packages/tables/path.py:155: NaturalNameWarning: object name is not a valid Python identifier: '92321_DOTSYMBOL_tif'; it does not match the pattern ``^[a-zA-Z_][a-zA-Z0-9_]*$``; you will not be able to use natural naming to access this object; using ``getattr()`` will still work, though\n",
      "  check_attribute_name(name)\n"
     ]
    },
    {
     "name": "stdout",
     "output_type": "stream",
     "text": [
      "exporting records\n"
     ]
    },
    {
     "name": "stderr",
     "output_type": "stream",
     "text": [
      "/opt/conda/lib/python3.9/site-packages/tables/path.py:155: NaturalNameWarning: object name is not a valid Python identifier: '84204T_001_DOTSYMBOL_tif'; it does not match the pattern ``^[a-zA-Z_][a-zA-Z0-9_]*$``; you will not be able to use natural naming to access this object; using ``getattr()`` will still work, though\n",
      "  check_attribute_name(name)\n"
     ]
    },
    {
     "name": "stdout",
     "output_type": "stream",
     "text": [
      "8079\n",
      "['/workspaces/dev-container/testing/data/whole_slide_images/new_data/92321.tif', '/workspaces/dev-container/testing/data/whole_slide_images/old_data/84204T_001.tif']\n",
      "OrderedDict([('/workspaces/dev-container/testing/data/whole_slide_images/new_data/92321.tif', 6786), ('/workspaces/dev-container/testing/data/whole_slide_images/old_data/84204T_001.tif', 65780)])\n",
      "OrderedDict([('/workspaces/dev-container/testing/data/whole_slide_images/new_data/92321.tif', 5373), ('/workspaces/dev-container/testing/data/whole_slide_images/old_data/84204T_001.tif', 59114)])\n"
     ]
    }
   ],
   "source": [
    "fp = \"/workspaces/dev-container/ML-Supervised/archive/filtration_cache.h5\"\n",
    "print(os.path.exists(fp))\n",
    "if os.path.exists(fp): os.remove(fp)\n",
    "d = Dataset(\n",
    "    \"/workspaces/dev-container/testing/data/whole_slide_images\",\n",
    "    \"/workspaces/dev-container/testing/data/whole_slide_images\",\n",
    "    filtration=FilterManager(\n",
    "        filters=[FilterBlackAndWhite(),\n",
    "                 FilterHSV(),\n",
    "                 FilterFocusMeasure()])\n",
    ")\n",
    "print(len(d))\n",
    "print(d._filepaths)\n",
    "print(d._region_counts)\n",
    "print(d._region_discounts)"
   ]
  }
 ],
 "metadata": {
  "interpreter": {
   "hash": "d4d1e4263499bec80672ea0156c357c1ee493ec2b1c70f0acce89fc37c4a6abe"
  },
  "kernelspec": {
   "display_name": "Python 3.9.7 ('base')",
   "language": "python",
   "name": "python3"
  },
  "language_info": {
   "codemirror_mode": {
    "name": "ipython",
    "version": 3
   },
   "file_extension": ".py",
   "mimetype": "text/x-python",
   "name": "python",
   "nbconvert_exporter": "python",
   "pygments_lexer": "ipython3",
   "version": "3.9.7"
  },
  "orig_nbformat": 4
 },
 "nbformat": 4,
 "nbformat_minor": 2
}
