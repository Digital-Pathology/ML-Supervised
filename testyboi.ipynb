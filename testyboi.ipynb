{
 "cells": [
  {
   "cell_type": "code",
   "execution_count": null,
   "metadata": {},
   "outputs": [],
   "source": [
    "from model_manager import ModelManager\n",
    "from unified_image_reader import Image\n",
    "import torch\n",
    "import numpy as np\n",
    "\n",
    "manager = ModelManager('model')\n",
    "checkpoint = manager.load_model(f\"digpath_supervised_densenet_best_model\")"
   ]
  },
  {
   "cell_type": "code",
   "execution_count": null,
   "metadata": {},
   "outputs": [],
   "source": [
    "classes = ('Mild', 'Moderate', 'Severe')\n",
    "labels = {label: idx for idx, label in enumerate(classes)}\n",
    "device = torch.device('cuda' if torch.cuda.is_available() else 'cpu')\n",
    "\n",
    "def diagnose_region(model, region):\n",
    "    region = torch.Tensor(region[None, ::]).permute(0, 3, 1, 2).float().to(device)\n",
    "    output = model(input).to(device)\n",
    "    output = output.detach().squeeze().cpu().numpy()\n",
    "    pred = label_decoder(np.argmax(output))\n",
    "    print(f\"Predicted class: {pred}\")\n",
    "    return pred\n",
    "\n",
    "def label_decoder(x):\n",
    "    return list(labels.keys())[list(labels.values()).index(x)]\n",
    "\n",
    "def diagnose_wsi(model, file_path, aggregate):\n",
    "    region_classifications = {}\n",
    "    for i, region in enumerate(Image(file_path)):\n",
    "        region = region.to(device)\n",
    "        model.eval()\n",
    "        pred = diagnose_region(model, region)\n",
    "        region_classifications[i] = pred\n",
    "    return aggregate(region_classifications)\n",
    "        \n",
    "\n",
    "def plurality_vote(region_classifications):\n",
    "    return region_classifications[max(region_classifications, key=region_classifications.get)]"
   ]
  }
 ],
 "metadata": {
  "interpreter": {
   "hash": "d4d1e4263499bec80672ea0156c357c1ee493ec2b1c70f0acce89fc37c4a6abe"
  },
  "kernelspec": {
   "display_name": "Python 3.9.7 ('base')",
   "language": "python",
   "name": "python3"
  },
  "language_info": {
   "codemirror_mode": {
    "name": "ipython",
    "version": 3
   },
   "file_extension": ".py",
   "mimetype": "text/x-python",
   "name": "python",
   "nbconvert_exporter": "python",
   "pygments_lexer": "ipython3",
   "version": "3.9.7"
  },
  "orig_nbformat": 4
 },
 "nbformat": 4,
 "nbformat_minor": 2
}
